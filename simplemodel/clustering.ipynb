{
 "cells": [
  {
   "cell_type": "code",
   "execution_count": 33,
   "metadata": {
    "collapsed": true
   },
   "outputs": [],
   "source": [
    "from sklearn.feature_extraction.text import TfidfVectorizer\n",
    "import pandas as pd # для отображения"
   ]
  },
  {
   "cell_type": "markdown",
   "metadata": {},
   "source": [
    "# 1. Векторизация"
   ]
  },
  {
   "cell_type": "code",
   "execution_count": 34,
   "metadata": {},
   "outputs": [],
   "source": [
    "tf = TfidfVectorizer(min_df=2) # Объект с помощью которого мы проведём векторизацию\n",
    "\n",
    "# запросы\n",
    "pharses = [\n",
    "    'купить книги в махачкале',\n",
    "    'книги в махачкале магазин',\n",
    "    'библиотека в махачкале',\n",
    "    'магазин книг в махачкале',\n",
    "]\n",
    "\n",
    "X = tf.fit_transform(pharses)\n",
    "data = pd.DataFrame(data=X.toarray(), columns=tf.get_feature_names(), index=pharses)"
   ]
  },
  {
   "cell_type": "code",
   "execution_count": 35,
   "metadata": {},
   "outputs": [
    {
     "data": {
      "text/html": [
       "<div>\n",
       "<style>\n",
       "    .dataframe thead tr:only-child th {\n",
       "        text-align: right;\n",
       "    }\n",
       "\n",
       "    .dataframe thead th {\n",
       "        text-align: left;\n",
       "    }\n",
       "\n",
       "    .dataframe tbody tr th {\n",
       "        vertical-align: top;\n",
       "    }\n",
       "</style>\n",
       "<table border=\"1\" class=\"dataframe\">\n",
       "  <thead>\n",
       "    <tr style=\"text-align: right;\">\n",
       "      <th></th>\n",
       "      <th>книги</th>\n",
       "      <th>магазин</th>\n",
       "      <th>махачкале</th>\n",
       "    </tr>\n",
       "  </thead>\n",
       "  <tbody>\n",
       "    <tr>\n",
       "      <th>купить книги в махачкале</th>\n",
       "      <td>0.833884</td>\n",
       "      <td>0.000000</td>\n",
       "      <td>0.551939</td>\n",
       "    </tr>\n",
       "    <tr>\n",
       "      <th>книги в махачкале магазин</th>\n",
       "      <td>0.640434</td>\n",
       "      <td>0.640434</td>\n",
       "      <td>0.423897</td>\n",
       "    </tr>\n",
       "    <tr>\n",
       "      <th>библиотека в махачкале</th>\n",
       "      <td>0.000000</td>\n",
       "      <td>0.000000</td>\n",
       "      <td>1.000000</td>\n",
       "    </tr>\n",
       "    <tr>\n",
       "      <th>магазин книг в махачкале</th>\n",
       "      <td>0.000000</td>\n",
       "      <td>0.833884</td>\n",
       "      <td>0.551939</td>\n",
       "    </tr>\n",
       "  </tbody>\n",
       "</table>\n",
       "</div>"
      ],
      "text/plain": [
       "                              книги   магазин  махачкале\n",
       "купить книги в махачкале   0.833884  0.000000   0.551939\n",
       "книги в махачкале магазин  0.640434  0.640434   0.423897\n",
       "библиотека в махачкале     0.000000  0.000000   1.000000\n",
       "магазин книг в махачкале   0.000000  0.833884   0.551939"
      ]
     },
     "execution_count": 35,
     "metadata": {},
     "output_type": "execute_result"
    }
   ],
   "source": [
    "data"
   ]
  },
  {
   "cell_type": "markdown",
   "metadata": {},
   "source": [
    "# Кластеризация"
   ]
  },
  {
   "cell_type": "code",
   "execution_count": 36,
   "metadata": {
    "collapsed": true
   },
   "outputs": [],
   "source": [
    "from sklearn.cluster import KMeans\n",
    "import numpy as np"
   ]
  },
  {
   "cell_type": "code",
   "execution_count": 37,
   "metadata": {},
   "outputs": [
    {
     "data": {
      "text/plain": [
       "KMeans(algorithm='auto', copy_x=True, init='k-means++', max_iter=300,\n",
       "    n_clusters=2, n_init=10, n_jobs=4, precompute_distances='auto',\n",
       "    random_state=None, tol=0.0001, verbose=0)"
      ]
     },
     "execution_count": 37,
     "metadata": {},
     "output_type": "execute_result"
    }
   ],
   "source": [
    "kmeans = KMeans(n_clusters=2, \n",
    "                n_init=10, \n",
    "                max_iter=300, \n",
    "                tol=0.0001, \n",
    "                n_jobs=4\n",
    "               )\n",
    "kmeans.fit(X)"
   ]
  },
  {
   "cell_type": "code",
   "execution_count": 38,
   "metadata": {
    "collapsed": true
   },
   "outputs": [],
   "source": [
    "dct = dict()\n",
    "for key, label in zip(pharses, kmeans.labels_):\n",
    "    dct[label] = dct.get(label, []) + [key]"
   ]
  },
  {
   "cell_type": "markdown",
   "metadata": {},
   "source": [
    "<hr>\n",
    "Ниже мы имеем два кластера.\n",
    "<hr>"
   ]
  },
  {
   "cell_type": "code",
   "execution_count": 39,
   "metadata": {},
   "outputs": [
    {
     "data": {
      "text/plain": [
       "{0: ['купить книги в махачкале', 'книги в махачкале магазин'],\n",
       " 1: ['библиотека в махачкале', 'магазин книг в махачкале']}"
      ]
     },
     "execution_count": 39,
     "metadata": {},
     "output_type": "execute_result"
    }
   ],
   "source": [
    "dct"
   ]
  },
  {
   "cell_type": "code",
   "execution_count": null,
   "metadata": {
    "collapsed": true
   },
   "outputs": [],
   "source": []
  }
 ],
 "metadata": {
  "kernelspec": {
   "display_name": "Python 3",
   "language": "python",
   "name": "python3"
  },
  "language_info": {
   "codemirror_mode": {
    "name": "ipython",
    "version": 3
   },
   "file_extension": ".py",
   "mimetype": "text/x-python",
   "name": "python",
   "nbconvert_exporter": "python",
   "pygments_lexer": "ipython3",
   "version": "3.6.3"
  }
 },
 "nbformat": 4,
 "nbformat_minor": 2
}
