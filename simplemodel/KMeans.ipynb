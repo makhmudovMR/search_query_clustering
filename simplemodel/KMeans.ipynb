{
 "cells": [
  {
   "cell_type": "code",
   "execution_count": 109,
   "metadata": {},
   "outputs": [],
   "source": [
    "import numpy as np\n",
    "import matplotlib.pyplot as plt\n",
    "\n",
    "X = np.array([\n",
    "    [1,2],\n",
    "    [1,1.5],\n",
    "    [1.5, 1.8],\n",
    "    [5, 8],\n",
    "    [8, 8],\n",
    "    [1, 0.6],\n",
    "    [9, 11]\n",
    "])\n",
    "\n",
    "\n",
    "class KMeans:\n",
    "    \n",
    "    def __init__(self, k=2, tol=0.001, max_iter=300):\n",
    "        self.k = k # колличество кластеров\n",
    "        self.tol = tol # точность\n",
    "        self.max_iter=max_iter # максимальное колличество итераций\n",
    "        \n",
    "        \n",
    "    def fit(self, data):\n",
    "        self.centroids = {} # центроид (центры кластеров)\n",
    "        \n",
    "        for i in range(self.k):\n",
    "            self.centroids[i] = data[i]\n",
    "            \n",
    "        print('centroid:', self.centroids)\n",
    "            \n",
    "        for i in range(self.max_iter):\n",
    "            self.classifications = {}\n",
    "            \n",
    "            for i in range(self.k):\n",
    "                self.classifications[i] = []\n",
    "                \n",
    "            for featureset in X:\n",
    "                distances = [np.linalg.norm(featureset - self.centroids[centroid]) for centroid in self.centroids]\n",
    "                classification = distances.index(min(distances))\n",
    "                self.classifications[classification].append(featureset)\n",
    "            \n",
    "            prev_centroids = dict(self.centroids)\n",
    "            \n",
    "            # уточняем центроид\n",
    "            for classification in self.classifications:\n",
    "                print('-'*100)\n",
    "                print(self.classifications[classification])\n",
    "                print(np.average(self.classifications[classification], axis=0))\n",
    "                print('-'*100)\n",
    "                self.centroids[classification] = np.average(self.classifications[classification], axis=0)\n",
    "\n",
    "            optimized = True\n",
    "\n",
    "            # когда остановить алгоритм\n",
    "            for c in self.centroids:\n",
    "                original_cetroid = prev_centroids[c]\n",
    "                current_centroid = self.centroids[c]\n",
    "\n",
    "                if np.sum((current_centroid-original_cetroid) / original_cetroid * 100.0) > self.tol:\n",
    "                    optimized = False\n",
    "\n",
    "            if optimized:\n",
    "                break\n",
    "\n",
    "    def predict(self, featureset):\n",
    "        distances = [np.linalg.norm(featureset) - self.centroids[centroid] for centroid in self.centroids]\n",
    "        classification = distances.index(min(distances))\n",
    "        return classification"
   ]
  },
  {
   "cell_type": "code",
   "execution_count": 110,
   "metadata": {},
   "outputs": [
    {
     "name": "stdout",
     "output_type": "stream",
     "text": [
      "centroid: {0: array([ 1.,  2.]), 1: array([ 1. ,  1.5])}\n",
      "----------------------------------------------------------------------------------------------------\n",
      "[array([ 1.,  2.]), array([ 1.5,  1.8]), array([ 5.,  8.]), array([ 8.,  8.]), array([  9.,  11.])]\n",
      "[ 4.9   6.16]\n",
      "----------------------------------------------------------------------------------------------------\n",
      "----------------------------------------------------------------------------------------------------\n",
      "[array([ 1. ,  1.5]), array([ 1. ,  0.6])]\n",
      "[ 1.    1.05]\n",
      "----------------------------------------------------------------------------------------------------\n",
      "----------------------------------------------------------------------------------------------------\n",
      "[array([ 5.,  8.]), array([ 8.,  8.]), array([  9.,  11.])]\n",
      "[ 7.33333333  9.        ]\n",
      "----------------------------------------------------------------------------------------------------\n",
      "----------------------------------------------------------------------------------------------------\n",
      "[array([ 1.,  2.]), array([ 1. ,  1.5]), array([ 1.5,  1.8]), array([ 1. ,  0.6])]\n",
      "[ 1.125  1.475]\n",
      "----------------------------------------------------------------------------------------------------\n",
      "----------------------------------------------------------------------------------------------------\n",
      "[array([ 5.,  8.]), array([ 8.,  8.]), array([  9.,  11.])]\n",
      "[ 7.33333333  9.        ]\n",
      "----------------------------------------------------------------------------------------------------\n",
      "----------------------------------------------------------------------------------------------------\n",
      "[array([ 1.,  2.]), array([ 1. ,  1.5]), array([ 1.5,  1.8]), array([ 1. ,  0.6])]\n",
      "[ 1.125  1.475]\n",
      "----------------------------------------------------------------------------------------------------\n"
     ]
    }
   ],
   "source": [
    "clf = KMeans()\n",
    "clf.fit(X)"
   ]
  },
  {
   "cell_type": "code",
   "execution_count": 111,
   "metadata": {},
   "outputs": [
    {
     "data": {
      "image/png": "[encoded data removed]",
      "text/plain": [
       "<matplotlib.figure.Figure at 0x1d2fd81e8d0>"
      ]
     },
     "metadata": {},
     "output_type": "display_data"
    }
   ],
   "source": [
    "for centroid in clf.centroids:\n",
    "    plt.scatter(clf.centroids[centroid][0], clf.centroids[centroid][1],\n",
    "                marker='o', color='k', s=150, linewidth=5)\n",
    "\n",
    "    \n",
    "colors = ['r', 'b']\n",
    "for classification in clf.classifications:\n",
    "    color = colors[classification]\n",
    "    for featureset in clf.classifications[classification]:\n",
    "        plt.scatter(featureset[0], featureset[1], marker='x', color=color, s=150, linewidth=5)\n",
    "plt.show()"
   ]
  },
  {
   "cell_type": "code",
   "execution_count": 112,
   "metadata": {},
   "outputs": [
    {
     "name": "stdout",
     "output_type": "stream",
     "text": [
      "[[1 1]\n",
      " [5 5]]\n"
     ]
    },
    {
     "data": {
      "text/plain": [
       "array([ 3.,  3.])"
      ]
     },
     "execution_count": 112,
     "metadata": {},
     "output_type": "execute_result"
    }
   ],
   "source": [
    "a = np.array([[1,1], [5,5]])\n",
    "print(a)\n",
    "np.average(a, axis=0)"
   ]
  },
  {
   "cell_type": "code",
   "execution_count": null,
   "metadata": {
    "collapsed": true
   },
   "outputs": [],
   "source": []
  }
 ],
 "metadata": {
  "kernelspec": {
   "display_name": "Python 3",
   "language": "python",
   "name": "python3"
  },
  "language_info": {
   "codemirror_mode": {
    "name": "ipython",
    "version": 3
   },
   "file_extension": ".py",
   "mimetype": "text/x-python",
   "name": "python",
   "nbconvert_exporter": "python",
   "pygments_lexer": "ipython3",
   "version": "3.6.3"
  }
 },
 "nbformat": 4,
 "nbformat_minor": 2
}
